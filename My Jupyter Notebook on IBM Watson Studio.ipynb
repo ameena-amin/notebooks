{
    "cells": [
        {
            "metadata": {
                "collapsed": true
            },
            "cell_type": "markdown",
            "source": "# My Jupyter Notebook on IBM Watson Studio"
        },
        {
            "metadata": {},
            "cell_type": "markdown",
            "source": "**Ameena Amin**\n\nData Scientist "
        },
        {
            "metadata": {},
            "cell_type": "markdown",
            "source": "*I am interested in data science because I want the detective job. As Godefroy Clair, CTO at Flylab said,\u201cFor me, data science was a way to become a detective. For every new case, you have to go into a new field to try to understand how it works, to massage the data until you understand them, to try to acquire all the knowledge of the field without being a specialist. And because I am very curious about very different techniques in science, for me, it is exactly what I wanted.\u201d*"
        },
        {
            "metadata": {},
            "cell_type": "markdown",
            "source": "### The code below multiplies two numbers and prints the product."
        },
        {
            "metadata": {},
            "cell_type": "code",
            "source": "c = 3\nd = 6 \ne = c * d\nprint(e)",
            "execution_count": 16,
            "outputs": [
                {
                    "output_type": "stream",
                    "text": "18\n",
                    "name": "stdout"
                }
            ]
        },
        {
            "metadata": {},
            "cell_type": "markdown",
            "source": "***\n\nYear | Best Season Yet | Votes\n--- | --- | ---\n*2017* | `Fall` | 60\n*2018* | `Spring` | 77\n*2019* | `Winter` | 52\n*2020* | `Summer` | 85\n\n[Don\u2019t Apologize For Your Obsession With Fall. It\u2019s Science](https://www.google.com/search?q=fall+&tbm=isch&ved=2ahUKEwic9sua7KvrAhXSG98KHT5ZD-kQ2-cCegQIABAA&oq=fall+&gs_lcp=CgNpbWcQAzIECCMQJzIECCMQJzIECAAQQzIICAAQsQMQgwEyBAgAEEMyBAgAEEMyCAgAELEDEIMBMgUIABCxAzIICAAQsQMQgwEyAggAUL8cWO4dYLYhaABwAHgAgAE3iAFokgEBMpgBAKABAaoBC2d3cy13aXotaW1nwAEB&sclient=img&ei=V4E_X9zuBNK3_Aa-sr3IDg&bih=937&biw=1920#imgrc=mmLYLNHQZan3NM)\n\n> Every leaf speaks bliss to me, fluttering from the autumn tree. - Emily Bront\u00eb\n"
        },
        {
            "metadata": {},
            "cell_type": "code",
            "source": "",
            "execution_count": null,
            "outputs": []
        }
    ],
    "metadata": {
        "kernelspec": {
            "name": "python3",
            "display_name": "Python 3.6",
            "language": "python"
        },
        "language_info": {
            "name": "python",
            "version": "3.6.9",
            "mimetype": "text/x-python",
            "codemirror_mode": {
                "name": "ipython",
                "version": 3
            },
            "pygments_lexer": "ipython3",
            "nbconvert_exporter": "python",
            "file_extension": ".py"
        }
    },
    "nbformat": 4,
    "nbformat_minor": 1
}